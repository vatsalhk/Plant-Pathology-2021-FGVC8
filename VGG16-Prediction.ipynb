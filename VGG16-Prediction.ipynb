{
 "cells": [
  {
   "cell_type": "code",
   "execution_count": 1,
   "id": "loved-capital",
   "metadata": {
    "execution": {
     "iopub.execute_input": "2021-05-02T12:55:20.642087Z",
     "iopub.status.busy": "2021-05-02T12:55:20.640315Z",
     "iopub.status.idle": "2021-05-02T12:55:30.035747Z",
     "shell.execute_reply": "2021-05-02T12:55:30.034529Z"
    },
    "papermill": {
     "duration": 9.408026,
     "end_time": "2021-05-02T12:55:30.035906",
     "exception": false,
     "start_time": "2021-05-02T12:55:20.627880",
     "status": "completed"
    },
    "tags": []
   },
   "outputs": [],
   "source": [
    "import os\n",
    "import gc\n",
    "import re\n",
    "\n",
    "import cv2\n",
    "import math\n",
    "import numpy as np\n",
    "import scipy as sp\n",
    "import pandas as pd\n",
    "\n",
    "import tensorflow as tf\n",
    "from tensorflow import keras\n",
    "import tensorflow_addons as tfa\n",
    "from IPython.display import SVG\n",
    "# import efficientnet.tfkeras as efn\n",
    "from keras.utils import plot_model\n",
    "import tensorflow.keras.layers as L\n",
    "from keras.utils import model_to_dot\n",
    "import tensorflow.keras.backend as K\n",
    "from tensorflow.keras.models import Model\n",
    "from kaggle_datasets import KaggleDatasets\n",
    "from tensorflow.keras.applications import InceptionV3\n",
    "\n",
    "import seaborn as sns\n",
    "from tqdm import tqdm\n",
    "import matplotlib.cm as cm\n",
    "from sklearn import metrics\n",
    "import matplotlib.pyplot as plt\n",
    "from sklearn.utils import shuffle\n",
    "from sklearn.model_selection import train_test_split\n",
    "from sklearn.preprocessing import LabelEncoder\n",
    "from sklearn.preprocessing import MultiLabelBinarizer\n",
    "\n",
    "tqdm.pandas()\n",
    "import plotly.express as px\n",
    "import plotly.graph_objects as go\n",
    "import plotly.figure_factory as ff\n",
    "from plotly.subplots import make_subplots\n",
    "\n",
    "np.random.seed(0)\n",
    "tf.random.set_seed(0)\n",
    "\n",
    "import warnings\n",
    "warnings.filterwarnings(\"ignore\")"
   ]
  },
  {
   "cell_type": "code",
   "execution_count": 2,
   "id": "yellow-moisture",
   "metadata": {
    "execution": {
     "iopub.execute_input": "2021-05-02T12:55:30.056265Z",
     "iopub.status.busy": "2021-05-02T12:55:30.055736Z",
     "iopub.status.idle": "2021-05-02T12:55:30.347274Z",
     "shell.execute_reply": "2021-05-02T12:55:30.346846Z"
    },
    "papermill": {
     "duration": 0.304823,
     "end_time": "2021-05-02T12:55:30.347402",
     "exception": false,
     "start_time": "2021-05-02T12:55:30.042579",
     "status": "completed"
    },
    "tags": []
   },
   "outputs": [
    {
     "data": {
      "text/html": [
       "<div>\n",
       "<style scoped>\n",
       "    .dataframe tbody tr th:only-of-type {\n",
       "        vertical-align: middle;\n",
       "    }\n",
       "\n",
       "    .dataframe tbody tr th {\n",
       "        vertical-align: top;\n",
       "    }\n",
       "\n",
       "    .dataframe thead th {\n",
       "        text-align: right;\n",
       "    }\n",
       "</style>\n",
       "<table border=\"1\" class=\"dataframe\">\n",
       "  <thead>\n",
       "    <tr style=\"text-align: right;\">\n",
       "      <th></th>\n",
       "      <th>complex</th>\n",
       "      <th>frog_eye_leaf_spot</th>\n",
       "      <th>healthy</th>\n",
       "      <th>powdery_mildew</th>\n",
       "      <th>rust</th>\n",
       "      <th>scab</th>\n",
       "    </tr>\n",
       "  </thead>\n",
       "  <tbody>\n",
       "    <tr>\n",
       "      <th>0</th>\n",
       "      <td>0</td>\n",
       "      <td>0</td>\n",
       "      <td>1</td>\n",
       "      <td>0</td>\n",
       "      <td>0</td>\n",
       "      <td>0</td>\n",
       "    </tr>\n",
       "    <tr>\n",
       "      <th>1</th>\n",
       "      <td>1</td>\n",
       "      <td>1</td>\n",
       "      <td>0</td>\n",
       "      <td>0</td>\n",
       "      <td>0</td>\n",
       "      <td>1</td>\n",
       "    </tr>\n",
       "    <tr>\n",
       "      <th>2</th>\n",
       "      <td>0</td>\n",
       "      <td>0</td>\n",
       "      <td>0</td>\n",
       "      <td>0</td>\n",
       "      <td>0</td>\n",
       "      <td>1</td>\n",
       "    </tr>\n",
       "    <tr>\n",
       "      <th>3</th>\n",
       "      <td>0</td>\n",
       "      <td>0</td>\n",
       "      <td>0</td>\n",
       "      <td>0</td>\n",
       "      <td>0</td>\n",
       "      <td>1</td>\n",
       "    </tr>\n",
       "    <tr>\n",
       "      <th>4</th>\n",
       "      <td>1</td>\n",
       "      <td>0</td>\n",
       "      <td>0</td>\n",
       "      <td>0</td>\n",
       "      <td>0</td>\n",
       "      <td>0</td>\n",
       "    </tr>\n",
       "    <tr>\n",
       "      <th>...</th>\n",
       "      <td>...</td>\n",
       "      <td>...</td>\n",
       "      <td>...</td>\n",
       "      <td>...</td>\n",
       "      <td>...</td>\n",
       "      <td>...</td>\n",
       "    </tr>\n",
       "    <tr>\n",
       "      <th>18627</th>\n",
       "      <td>0</td>\n",
       "      <td>0</td>\n",
       "      <td>1</td>\n",
       "      <td>0</td>\n",
       "      <td>0</td>\n",
       "      <td>0</td>\n",
       "    </tr>\n",
       "    <tr>\n",
       "      <th>18628</th>\n",
       "      <td>0</td>\n",
       "      <td>0</td>\n",
       "      <td>0</td>\n",
       "      <td>0</td>\n",
       "      <td>0</td>\n",
       "      <td>1</td>\n",
       "    </tr>\n",
       "    <tr>\n",
       "      <th>18629</th>\n",
       "      <td>0</td>\n",
       "      <td>0</td>\n",
       "      <td>0</td>\n",
       "      <td>0</td>\n",
       "      <td>1</td>\n",
       "      <td>0</td>\n",
       "    </tr>\n",
       "    <tr>\n",
       "      <th>18630</th>\n",
       "      <td>0</td>\n",
       "      <td>1</td>\n",
       "      <td>0</td>\n",
       "      <td>0</td>\n",
       "      <td>0</td>\n",
       "      <td>1</td>\n",
       "    </tr>\n",
       "    <tr>\n",
       "      <th>18631</th>\n",
       "      <td>0</td>\n",
       "      <td>0</td>\n",
       "      <td>1</td>\n",
       "      <td>0</td>\n",
       "      <td>0</td>\n",
       "      <td>0</td>\n",
       "    </tr>\n",
       "  </tbody>\n",
       "</table>\n",
       "<p>18632 rows × 6 columns</p>\n",
       "</div>"
      ],
      "text/plain": [
       "       complex  frog_eye_leaf_spot  healthy  powdery_mildew  rust  scab\n",
       "0            0                   0        1               0     0     0\n",
       "1            1                   1        0               0     0     1\n",
       "2            0                   0        0               0     0     1\n",
       "3            0                   0        0               0     0     1\n",
       "4            1                   0        0               0     0     0\n",
       "...        ...                 ...      ...             ...   ...   ...\n",
       "18627        0                   0        1               0     0     0\n",
       "18628        0                   0        0               0     0     1\n",
       "18629        0                   0        0               0     1     0\n",
       "18630        0                   1        0               0     0     1\n",
       "18631        0                   0        1               0     0     0\n",
       "\n",
       "[18632 rows x 6 columns]"
      ]
     },
     "execution_count": 2,
     "metadata": {},
     "output_type": "execute_result"
    }
   ],
   "source": [
    "AUTO = tf.data.experimental.AUTOTUNE\n",
    "BATCH_SIZE = 16\n",
    "IMAGE_PATH = \"../input/plant-pathology-2021-fgvc8/train_images/\"\n",
    "# TEST_PATH = \"../input/plant-pathology-2020-fgvc7/test.csv\"\n",
    "TRAIN_PATH = \"../input/plant-pathology-2021-fgvc8/train.csv\"\n",
    "SUB_PATH = \"../input/plant-pathology-2021-fgvc8/sample_submission.csv\"\n",
    "\n",
    "\n",
    "sub = pd.read_csv(SUB_PATH)\n",
    "test_data = sub.copy()\n",
    "train_data = pd.read_csv(TRAIN_PATH)\n",
    "train_data['labels'] = train_data['labels'].apply(lambda string: string.split(' '))\n",
    "s = list(train_data['labels'])\n",
    "mlb = MultiLabelBinarizer()\n",
    "trainx = pd.DataFrame(mlb.fit_transform(s), columns=mlb.classes_, index=train_data.index)\n",
    "trainx"
   ]
  },
  {
   "cell_type": "code",
   "execution_count": 3,
   "id": "municipal-jersey",
   "metadata": {
    "execution": {
     "iopub.execute_input": "2021-05-02T12:55:30.952424Z",
     "iopub.status.busy": "2021-05-02T12:55:30.951794Z",
     "iopub.status.idle": "2021-05-02T12:55:32.720013Z",
     "shell.execute_reply": "2021-05-02T12:55:32.719120Z"
    },
    "papermill": {
     "duration": 2.365854,
     "end_time": "2021-05-02T12:55:32.720155",
     "exception": false,
     "start_time": "2021-05-02T12:55:30.354301",
     "status": "completed"
    },
    "tags": []
   },
   "outputs": [],
   "source": [
    "def format_path(st):\n",
    "    return '../input/plant-pathology-2021-fgvc8/test_images/'+str(st)\n",
    "\n",
    "\n",
    "\n",
    "def decode_image(filename, label=None, image_size=(224, 224)):\n",
    "    bits = tf.io.read_file(filename)\n",
    "    image = tf.image.decode_jpeg(bits, channels=3)\n",
    "    image = tf.cast(image, tf.float32) / 255.0\n",
    "    image = tf.image.resize(image, image_size)\n",
    "    \n",
    "    if label is None:\n",
    "        return image\n",
    "    else:\n",
    "        return image, label\n",
    "\n",
    "def data_augment(image, label=None):\n",
    "    image = tf.image.random_flip_left_right(image)\n",
    "    image = tf.image.random_flip_up_down(image)\n",
    "    \n",
    "    if label is None:\n",
    "        return image\n",
    "    else:\n",
    "        return image, label\n",
    "    \n",
    "    \n",
    "test_paths = test_data.image.apply(format_path).values\n",
    "\n",
    "\n",
    "test_dataset = (\n",
    "    tf.data.Dataset\n",
    "    .from_tensor_slices(test_paths)\n",
    "    .map(decode_image, num_parallel_calls=AUTO)\n",
    "    .batch(BATCH_SIZE)\n",
    ")"
   ]
  },
  {
   "cell_type": "code",
   "execution_count": 4,
   "id": "proprietary-authority",
   "metadata": {
    "execution": {
     "iopub.execute_input": "2021-05-02T12:55:32.739316Z",
     "iopub.status.busy": "2021-05-02T12:55:32.738693Z",
     "iopub.status.idle": "2021-05-02T12:55:32.741789Z",
     "shell.execute_reply": "2021-05-02T12:55:32.742178Z"
    },
    "papermill": {
     "duration": 0.015245,
     "end_time": "2021-05-02T12:55:32.742294",
     "exception": false,
     "start_time": "2021-05-02T12:55:32.727049",
     "status": "completed"
    },
    "tags": []
   },
   "outputs": [
    {
     "data": {
      "text/plain": [
       "{0: 'complex',\n",
       " 1: 'frog_eye_leaf_spot',\n",
       " 2: 'healthy',\n",
       " 3: 'powdery_mildew',\n",
       " 4: 'rust',\n",
       " 5: 'scab'}"
      ]
     },
     "execution_count": 4,
     "metadata": {},
     "output_type": "execute_result"
    }
   ],
   "source": [
    "labels = {0: 'complex', 1: 'frog_eye_leaf_spot', 2: 'healthy', 3: 'powdery_mildew', 4: 'rust', 5: 'scab'}\n",
    "labels"
   ]
  },
  {
   "cell_type": "code",
   "execution_count": 5,
   "id": "armed-victor",
   "metadata": {
    "execution": {
     "iopub.execute_input": "2021-05-02T12:55:32.759644Z",
     "iopub.status.busy": "2021-05-02T12:55:32.759051Z",
     "iopub.status.idle": "2021-05-02T12:55:36.784410Z",
     "shell.execute_reply": "2021-05-02T12:55:36.783895Z"
    },
    "papermill": {
     "duration": 4.035142,
     "end_time": "2021-05-02T12:55:36.784565",
     "exception": false,
     "start_time": "2021-05-02T12:55:32.749423",
     "status": "completed"
    },
    "tags": []
   },
   "outputs": [],
   "source": [
    "from keras.models import load_model\n",
    "model = load_model(\"../input/notebook4c6ffb5cd2/VGG16.h5\")"
   ]
  },
  {
   "cell_type": "code",
   "execution_count": 6,
   "id": "municipal-leeds",
   "metadata": {
    "execution": {
     "iopub.execute_input": "2021-05-02T12:55:36.803752Z",
     "iopub.status.busy": "2021-05-02T12:55:36.803075Z",
     "iopub.status.idle": "2021-05-02T12:55:42.421715Z",
     "shell.execute_reply": "2021-05-02T12:55:42.421199Z"
    },
    "papermill": {
     "duration": 5.629798,
     "end_time": "2021-05-02T12:55:42.421847",
     "exception": false,
     "start_time": "2021-05-02T12:55:36.792049",
     "status": "completed"
    },
    "tags": []
   },
   "outputs": [
    {
     "name": "stdout",
     "output_type": "stream",
     "text": [
      "1/1 [==============================] - 6s 6s/step\n"
     ]
    }
   ],
   "source": [
    "preds =model.predict(test_dataset, verbose=1)"
   ]
  },
  {
   "cell_type": "code",
   "execution_count": 7,
   "id": "aggregate-individual",
   "metadata": {
    "execution": {
     "iopub.execute_input": "2021-05-02T12:55:42.446055Z",
     "iopub.status.busy": "2021-05-02T12:55:42.445489Z",
     "iopub.status.idle": "2021-05-02T12:55:42.450031Z",
     "shell.execute_reply": "2021-05-02T12:55:42.450653Z"
    },
    "papermill": {
     "duration": 0.020196,
     "end_time": "2021-05-02T12:55:42.450838",
     "exception": false,
     "start_time": "2021-05-02T12:55:42.430642",
     "status": "completed"
    },
    "tags": []
   },
   "outputs": [
    {
     "name": "stdout",
     "output_type": "stream",
     "text": [
      "[[2, 5], [2, 5], [2]]\n"
     ]
    }
   ],
   "source": [
    "preds = preds.tolist()\n",
    "\n",
    "indices = []\n",
    "for pred in preds:\n",
    "    temp = []\n",
    "    for category in pred:\n",
    "        if category>=0.25:\n",
    "            temp.append(pred.index(category))\n",
    "    if temp!=[]:\n",
    "        indices.append(temp)\n",
    "    else:\n",
    "        temp.append(np.argmax(pred))\n",
    "        indices.append(temp)\n",
    "    \n",
    "print(indices)"
   ]
  },
  {
   "cell_type": "code",
   "execution_count": 8,
   "id": "fantastic-identity",
   "metadata": {
    "execution": {
     "iopub.execute_input": "2021-05-02T12:55:42.474166Z",
     "iopub.status.busy": "2021-05-02T12:55:42.473602Z",
     "iopub.status.idle": "2021-05-02T12:55:42.478790Z",
     "shell.execute_reply": "2021-05-02T12:55:42.479392Z"
    },
    "papermill": {
     "duration": 0.019337,
     "end_time": "2021-05-02T12:55:42.479596",
     "exception": false,
     "start_time": "2021-05-02T12:55:42.460259",
     "status": "completed"
    },
    "tags": []
   },
   "outputs": [
    {
     "name": "stdout",
     "output_type": "stream",
     "text": [
      "['healthy scab', 'healthy scab', 'healthy']\n"
     ]
    }
   ],
   "source": [
    "testlabels = []\n",
    "\n",
    "\n",
    "for image in indices:\n",
    "    temp = []\n",
    "    for i in image:\n",
    "        temp.append(str(labels[i]))\n",
    "    testlabels.append(' '.join(temp))\n",
    "\n",
    "print(testlabels)"
   ]
  },
  {
   "cell_type": "code",
   "execution_count": 9,
   "id": "czech-works",
   "metadata": {
    "execution": {
     "iopub.execute_input": "2021-05-02T12:55:42.503264Z",
     "iopub.status.busy": "2021-05-02T12:55:42.502386Z",
     "iopub.status.idle": "2021-05-02T12:55:42.517675Z",
     "shell.execute_reply": "2021-05-02T12:55:42.517156Z"
    },
    "papermill": {
     "duration": 0.028844,
     "end_time": "2021-05-02T12:55:42.517787",
     "exception": false,
     "start_time": "2021-05-02T12:55:42.488943",
     "status": "completed"
    },
    "tags": []
   },
   "outputs": [
    {
     "data": {
      "text/html": [
       "<div>\n",
       "<style scoped>\n",
       "    .dataframe tbody tr th:only-of-type {\n",
       "        vertical-align: middle;\n",
       "    }\n",
       "\n",
       "    .dataframe tbody tr th {\n",
       "        vertical-align: top;\n",
       "    }\n",
       "\n",
       "    .dataframe thead th {\n",
       "        text-align: right;\n",
       "    }\n",
       "</style>\n",
       "<table border=\"1\" class=\"dataframe\">\n",
       "  <thead>\n",
       "    <tr style=\"text-align: right;\">\n",
       "      <th></th>\n",
       "      <th>image</th>\n",
       "      <th>labels</th>\n",
       "    </tr>\n",
       "  </thead>\n",
       "  <tbody>\n",
       "    <tr>\n",
       "      <th>0</th>\n",
       "      <td>85f8cb619c66b863.jpg</td>\n",
       "      <td>healthy scab</td>\n",
       "    </tr>\n",
       "    <tr>\n",
       "      <th>1</th>\n",
       "      <td>ad8770db05586b59.jpg</td>\n",
       "      <td>healthy scab</td>\n",
       "    </tr>\n",
       "    <tr>\n",
       "      <th>2</th>\n",
       "      <td>c7b03e718489f3ca.jpg</td>\n",
       "      <td>healthy</td>\n",
       "    </tr>\n",
       "  </tbody>\n",
       "</table>\n",
       "</div>"
      ],
      "text/plain": [
       "                  image        labels\n",
       "0  85f8cb619c66b863.jpg  healthy scab\n",
       "1  ad8770db05586b59.jpg  healthy scab\n",
       "2  c7b03e718489f3ca.jpg       healthy"
      ]
     },
     "execution_count": 9,
     "metadata": {},
     "output_type": "execute_result"
    }
   ],
   "source": [
    "sub['labels'] = testlabels\n",
    "sub.to_csv('submission.csv', index=False)\n",
    "sub"
   ]
  }
 ],
 "metadata": {
  "kernelspec": {
   "display_name": "Python 3",
   "language": "python",
   "name": "python3"
  },
  "language_info": {
   "codemirror_mode": {
    "name": "ipython",
    "version": 3
   },
   "file_extension": ".py",
   "mimetype": "text/x-python",
   "name": "python",
   "nbconvert_exporter": "python",
   "pygments_lexer": "ipython3",
   "version": "3.7.10"
  },
  "papermill": {
   "default_parameters": {},
   "duration": 31.762869,
   "end_time": "2021-05-02T12:55:45.816042",
   "environment_variables": {},
   "exception": null,
   "input_path": "__notebook__.ipynb",
   "output_path": "__notebook__.ipynb",
   "parameters": {},
   "start_time": "2021-05-02T12:55:14.053173",
   "version": "2.3.3"
  }
 },
 "nbformat": 4,
 "nbformat_minor": 5
}
